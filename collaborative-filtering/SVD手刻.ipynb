{
 "cells": [
  {
   "cell_type": "markdown",
   "metadata": {},
   "source": [
    "## SVD演算法\n",
    "- 透過keras手刻!\n",
    "- 元素\n",
    "    - embedding layer將user_id、item_id 嵌入到稠密的latent 向量空間。\n",
    "    - dot product，將user vector與item vector做點積使得得到分數\n",
    "    - 分數與實際值做SGD、誤差反向傳地將參數更新。\n",
    "- 結果\n",
    "    - 理解沒問題了!與surprise套件相比較也差不多!"
   ]
  },
  {
   "cell_type": "code",
   "execution_count": 50,
   "metadata": {
    "ExecuteTime": {
     "end_time": "2021-04-27T10:21:50.960952Z",
     "start_time": "2021-04-27T10:21:50.233952Z"
    }
   },
   "outputs": [
    {
     "data": {
      "text/html": [
       "<div>\n",
       "<style scoped>\n",
       "    .dataframe tbody tr th:only-of-type {\n",
       "        vertical-align: middle;\n",
       "    }\n",
       "\n",
       "    .dataframe tbody tr th {\n",
       "        vertical-align: top;\n",
       "    }\n",
       "\n",
       "    .dataframe thead th {\n",
       "        text-align: right;\n",
       "    }\n",
       "</style>\n",
       "<table border=\"1\" class=\"dataframe\">\n",
       "  <thead>\n",
       "    <tr style=\"text-align: right;\">\n",
       "      <th></th>\n",
       "      <th>userID</th>\n",
       "      <th>itemID</th>\n",
       "      <th>rating</th>\n",
       "      <th>timestamp</th>\n",
       "    </tr>\n",
       "  </thead>\n",
       "  <tbody>\n",
       "    <tr>\n",
       "      <th>0</th>\n",
       "      <td>196</td>\n",
       "      <td>242</td>\n",
       "      <td>0.6</td>\n",
       "      <td>881250949</td>\n",
       "    </tr>\n",
       "    <tr>\n",
       "      <th>1</th>\n",
       "      <td>186</td>\n",
       "      <td>302</td>\n",
       "      <td>0.6</td>\n",
       "      <td>891717742</td>\n",
       "    </tr>\n",
       "    <tr>\n",
       "      <th>2</th>\n",
       "      <td>22</td>\n",
       "      <td>377</td>\n",
       "      <td>0.2</td>\n",
       "      <td>878887116</td>\n",
       "    </tr>\n",
       "    <tr>\n",
       "      <th>3</th>\n",
       "      <td>244</td>\n",
       "      <td>51</td>\n",
       "      <td>0.4</td>\n",
       "      <td>880606923</td>\n",
       "    </tr>\n",
       "    <tr>\n",
       "      <th>4</th>\n",
       "      <td>166</td>\n",
       "      <td>346</td>\n",
       "      <td>0.2</td>\n",
       "      <td>886397596</td>\n",
       "    </tr>\n",
       "  </tbody>\n",
       "</table>\n",
       "</div>"
      ],
      "text/plain": [
       "   userID  itemID  rating  timestamp\n",
       "0     196     242     0.6  881250949\n",
       "1     186     302     0.6  891717742\n",
       "2      22     377     0.2  878887116\n",
       "3     244      51     0.4  880606923\n",
       "4     166     346     0.2  886397596"
      ]
     },
     "execution_count": 50,
     "metadata": {},
     "output_type": "execute_result"
    }
   ],
   "source": [
    "# data\n",
    "\n",
    "## 讀取.data: https://blog.csdn.net/qq_24509229/article/details/80214613\n",
    "## ml-100k資料說明: https://files.grouplens.org/datasets/movielens/ml-100k-README.txt\n",
    "## ml-100k原始讀取...\n",
    "import numpy as np\n",
    "import pandas as pd\n",
    "\n",
    "\n",
    "df = []\n",
    "\n",
    "with open('./ml-100k/u.data') as f:\n",
    "    for row in f:\n",
    "        data = row.split()\n",
    "        df.append(data)\n",
    "\n",
    "df = pd.DataFrame(df, columns=['userID', 'itemID', 'rating', 'timestamp'])\n",
    "df['rating'] = df['rating'].apply(func=lambda x: int(x)/5)\n",
    "df['userID'] = df['userID'].astype(int)\n",
    "df['itemID'] = df['itemID'].astype(int)\n",
    "df.head()"
   ]
  },
  {
   "cell_type": "code",
   "execution_count": 51,
   "metadata": {
    "ExecuteTime": {
     "end_time": "2021-04-27T10:21:51.655953Z",
     "start_time": "2021-04-27T10:21:51.649952Z"
    }
   },
   "outputs": [],
   "source": [
    "import tensorflow as tf\n",
    "from tensorflow import keras\n",
    "from tensorflow.keras.layers import Embedding, Dense, Flatten, Multiply"
   ]
  },
  {
   "cell_type": "code",
   "execution_count": 82,
   "metadata": {
    "ExecuteTime": {
     "end_time": "2021-04-27T10:40:54.172371Z",
     "start_time": "2021-04-27T10:40:54.156371Z"
    }
   },
   "outputs": [],
   "source": [
    "class SVDKeras(tf.keras.Model):\n",
    "    def __init__(self, num_users, num_items, k):\n",
    "        super(SVDKeras, self).__init__()\n",
    "        self.user_embedding = Embedding(input_dim=num_users, output_dim=k, input_length=1)\n",
    "        self.item_embedding = Embedding(input_dim=num_items, output_dim=k, input_length=1)\n",
    "        self.multiply = Multiply()\n",
    "        self.flatten = Flatten()\n",
    "        self.dense = Dense(1, activation='sigmoid')\n",
    "        \n",
    "    def call(self, inputs):\n",
    "        user_ids = inputs[:, 0]\n",
    "        item_ids = inputs[:, 1]\n",
    "        \n",
    "        user_vectors = self.user_embedding(user_ids)\n",
    "        item_vectors = self.item_embedding(item_ids)\n",
    "        \n",
    "        user_vectors = self.flatten(user_vectors)\n",
    "        item_vectors = self.flatten(item_vectors)\n",
    "        \n",
    "        f_output = self.multiply([user_vectors, item_vectors])\n",
    "        f_output = self.dense(f_output)\n",
    "        \n",
    "        return f_output"
   ]
  },
  {
   "cell_type": "code",
   "execution_count": 83,
   "metadata": {
    "ExecuteTime": {
     "end_time": "2021-04-27T10:40:54.456411Z",
     "start_time": "2021-04-27T10:40:54.426415Z"
    }
   },
   "outputs": [
    {
     "data": {
      "text/plain": [
       "((100000, 2), (100000,))"
      ]
     },
     "execution_count": 83,
     "metadata": {},
     "output_type": "execute_result"
    }
   ],
   "source": [
    "X = df[['userID', 'itemID']].values\n",
    "y = df[['rating']].values.flatten()\n",
    "\n",
    "X.shape, y.shape"
   ]
  },
  {
   "cell_type": "code",
   "execution_count": 84,
   "metadata": {
    "ExecuteTime": {
     "end_time": "2021-04-27T10:40:55.105411Z",
     "start_time": "2021-04-27T10:40:55.098414Z"
    }
   },
   "outputs": [],
   "source": [
    "x_train, x_test = X[:80000], X[80000:]\n",
    "y_train, y_test = y[:80000], y[80000:]"
   ]
  },
  {
   "cell_type": "code",
   "execution_count": 85,
   "metadata": {
    "ExecuteTime": {
     "end_time": "2021-04-27T10:41:19.227741Z",
     "start_time": "2021-04-27T10:40:55.991943Z"
    }
   },
   "outputs": [
    {
     "name": "stdout",
     "output_type": "stream",
     "text": [
      "Epoch 1/10\n",
      "625/625 [==============================] - 3s 3ms/step - loss: 0.0798 - val_loss: 0.0418\n",
      "Epoch 2/10\n",
      "625/625 [==============================] - 2s 4ms/step - loss: 0.0381 - val_loss: 0.0359\n",
      "Epoch 3/10\n",
      "625/625 [==============================] - 3s 5ms/step - loss: 0.0286 - val_loss: 0.0338\n",
      "Epoch 4/10\n",
      "625/625 [==============================] - 2s 4ms/step - loss: 0.0193 - val_loss: 0.0344\n",
      "Epoch 5/10\n",
      "625/625 [==============================] - 2s 4ms/step - loss: 0.0129 - val_loss: 0.0360\n",
      "Epoch 6/10\n",
      "625/625 [==============================] - 2s 3ms/step - loss: 0.0090 - val_loss: 0.0375\n",
      "Epoch 7/10\n",
      "625/625 [==============================] - 2s 3ms/step - loss: 0.0065 - val_loss: 0.0387\n",
      "Epoch 8/10\n",
      "625/625 [==============================] - 2s 4ms/step - loss: 0.0051 - val_loss: 0.0398\n",
      "Epoch 9/10\n",
      "625/625 [==============================] - 2s 3ms/step - loss: 0.0039 - val_loss: 0.0407\n",
      "Epoch 10/10\n",
      "625/625 [==============================] - 2s 3ms/step - loss: 0.0032 - val_loss: 0.0417\n"
     ]
    }
   ],
   "source": [
    "svd_keras = SVDKeras(num_users=943+1, num_items=1682+1, k=100)\n",
    "svd_keras.compile(optimizer='adam', loss='mean_squared_error')\n",
    "history = svd_keras.fit(x=x_train, y=y_train, batch_size=128, epochs=10, validation_data=(x_test, y_test))"
   ]
  },
  {
   "cell_type": "code",
   "execution_count": 86,
   "metadata": {
    "ExecuteTime": {
     "end_time": "2021-04-27T10:41:19.668743Z",
     "start_time": "2021-04-27T10:41:19.231745Z"
    }
   },
   "outputs": [
    {
     "data": {
      "image/png": "[encoded data removed]",
      "text/plain": [
       "<Figure size 432x288 with 1 Axes>"
      ]
     },
     "metadata": {
      "needs_background": "light"
     },
     "output_type": "display_data"
    }
   ],
   "source": [
    "import matplotlib.pyplot as plt\n",
    "\n",
    "\n",
    "plt.plot(history.history[\"loss\"])\n",
    "plt.plot(history.history[\"val_loss\"])\n",
    "plt.title(\"model loss\")\n",
    "plt.ylabel(\"loss\")\n",
    "plt.xlabel(\"epoch\")\n",
    "plt.legend([\"train\", \"test\"], loc=\"upper left\")\n",
    "plt.show()"
   ]
  },
  {
   "cell_type": "code",
   "execution_count": 87,
   "metadata": {
    "ExecuteTime": {
     "end_time": "2021-04-27T10:41:48.884046Z",
     "start_time": "2021-04-27T10:41:42.228113Z"
    }
   },
   "outputs": [
    {
     "name": "stdout",
     "output_type": "stream",
     "text": [
      "svd預測: 0.7331523299217224 ，真實值: 0.8\n",
      "svd預測: 0.507182776927948 ，真實值: 0.2\n",
      "svd預測: 0.8014093637466431 ，真實值: 0.2\n",
      "svd預測: 0.8306746482849121 ，真實值: 0.4\n",
      "svd預測: 0.8069812059402466 ，真實值: 0.8\n",
      "svd預測: 0.8977518081665039 ，真實值: 1.0\n",
      "svd預測: 0.8405638933181763 ，真實值: 0.6\n",
      "svd預測: 0.4550999701023102 ，真實值: 0.4\n",
      "svd預測: 0.7683990001678467 ，真實值: 1.0\n",
      "svd預測: 0.37953534722328186 ，真實值: 0.6\n",
      "svd預測: 0.43177884817123413 ，真實值: 0.4\n",
      "svd預測: 0.6642760038375854 ，真實值: 0.8\n",
      "svd預測: 0.9628728628158569 ，真實值: 1.0\n",
      "svd預測: 0.7425540685653687 ，真實值: 0.8\n",
      "svd預測: 0.7915084958076477 ，真實值: 0.8\n",
      "svd預測: 0.8004331588745117 ，真實值: 0.6\n",
      "svd預測: 0.47594594955444336 ，真實值: 0.2\n",
      "svd預測: 0.5152420997619629 ，真實值: 0.8\n",
      "svd預測: 0.9742377996444702 ，真實值: 1.0\n",
      "svd預測: 0.5999801158905029 ，真實值: 0.8\n",
      "svd預測: 0.8750436305999756 ，真實值: 0.8\n",
      "svd預測: 0.6908552646636963 ，真實值: 0.8\n",
      "svd預測: 0.8674967288970947 ，真實值: 1.0\n",
      "svd預測: 0.7308075428009033 ，真實值: 0.6\n",
      "svd預測: 0.8426254987716675 ，真實值: 0.8\n",
      "svd預測: 0.7239822149276733 ，真實值: 0.8\n",
      "svd預測: 0.7358871102333069 ，真實值: 0.6\n",
      "svd預測: 0.6552743911743164 ，真實值: 0.6\n",
      "svd預測: 0.8672806024551392 ，真實值: 0.8\n",
      "svd預測: 0.865638256072998 ，真實值: 0.8\n",
      "svd預測: 0.6638365387916565 ，真實值: 1.0\n",
      "svd預測: 0.6955307126045227 ，真實值: 0.8\n",
      "svd預測: 0.95660400390625 ，真實值: 1.0\n",
      "svd預測: 0.5017507672309875 ，真實值: 0.6\n",
      "svd預測: 0.7683227062225342 ，真實值: 0.6\n",
      "svd預測: 0.7792792916297913 ，真實值: 0.4\n",
      "svd預測: 0.8700004816055298 ，真實值: 1.0\n",
      "svd預測: 0.9201533198356628 ，真實值: 0.8\n",
      "svd預測: 0.59053635597229 ，真實值: 1.0\n",
      "svd預測: 0.8028470277786255 ，真實值: 0.8\n",
      "svd預測: 0.8130484819412231 ，真實值: 0.8\n",
      "svd預測: 0.825910210609436 ，真實值: 0.6\n",
      "svd預測: 0.42146599292755127 ，真實值: 0.8\n",
      "svd預測: 0.6586341857910156 ，真實值: 0.8\n",
      "svd預測: 0.5809637308120728 ，真實值: 0.6\n",
      "svd預測: 0.952036440372467 ，真實值: 1.0\n",
      "svd預測: 0.8528512716293335 ，真實值: 1.0\n",
      "svd預測: 0.620171070098877 ，真實值: 0.4\n",
      "svd預測: 0.8367524743080139 ，真實值: 0.8\n",
      "svd預測: 0.9076579809188843 ，真實值: 1.0\n",
      "svd預測: 0.46124592423439026 ，真實值: 0.6\n",
      "svd預測: 0.6851081848144531 ，真實值: 0.8\n",
      "svd預測: 0.909377932548523 ，真實值: 1.0\n",
      "svd預測: 0.8374853730201721 ，真實值: 1.0\n",
      "svd預測: 0.6149259805679321 ，真實值: 1.0\n",
      "svd預測: 0.6306926012039185 ，真實值: 0.6\n",
      "svd預測: 0.7289000749588013 ，真實值: 0.8\n",
      "svd預測: 0.590564489364624 ，真實值: 0.6\n",
      "svd預測: 0.5079892873764038 ，真實值: 0.6\n",
      "svd預測: 0.7594246864318848 ，真實值: 0.6\n",
      "svd預測: 0.6132575869560242 ，真實值: 0.8\n",
      "svd預測: 0.6346863508224487 ，真實值: 0.6\n",
      "svd預測: 0.60160231590271 ，真實值: 0.6\n",
      "svd預測: 0.8934383988380432 ，真實值: 0.8\n",
      "svd預測: 0.6110883355140686 ，真實值: 0.8\n",
      "svd預測: 0.5960089564323425 ，真實值: 0.8\n",
      "svd預測: 0.6300061941146851 ，真實值: 0.6\n",
      "svd預測: 0.8041068315505981 ，真實值: 1.0\n",
      "svd預測: 0.6983100175857544 ，真實值: 0.4\n",
      "svd預測: 0.8224927186965942 ，真實值: 0.8\n",
      "svd預測: 0.2765805125236511 ，真實值: 0.2\n",
      "svd預測: 0.3087426424026489 ，真實值: 0.6\n",
      "svd預測: 0.7763657569885254 ，真實值: 0.8\n",
      "svd預測: 0.5745684504508972 ，真實值: 0.6\n",
      "svd預測: 0.4666324257850647 ，真實值: 0.6\n",
      "svd預測: 0.6813914179801941 ，真實值: 0.8\n",
      "svd預測: 0.24376970529556274 ，真實值: 0.6\n",
      "svd預測: 0.5006063580513 ，真實值: 0.4\n",
      "svd預測: 0.7953306436538696 ，真實值: 1.0\n",
      "svd預測: 0.9874606132507324 ，真實值: 0.8\n",
      "svd預測: 0.7005933523178101 ，真實值: 0.6\n",
      "svd預測: 0.7733718156814575 ，真實值: 0.6\n",
      "svd預測: 0.4932169020175934 ，真實值: 0.4\n",
      "svd預測: 0.585173487663269 ，真實值: 0.4\n",
      "svd預測: 0.7720259428024292 ，真實值: 0.8\n",
      "svd預測: 0.7711638808250427 ，真實值: 1.0\n",
      "svd預測: 0.8325701951980591 ，真實值: 1.0\n",
      "svd預測: 0.9830464124679565 ，真實值: 1.0\n",
      "svd預測: 0.6870698928833008 ，真實值: 0.4\n",
      "svd預測: 0.3761454224586487 ，真實值: 0.8\n",
      "svd預測: 0.5733280181884766 ，真實值: 0.2\n",
      "svd預測: 0.48189637064933777 ，真實值: 0.6\n",
      "svd預測: 0.28543275594711304 ，真實值: 1.0\n",
      "svd預測: 0.3845065236091614 ，真實值: 0.4\n",
      "svd預測: 0.6287792921066284 ，真實值: 0.8\n",
      "svd預測: 0.832795262336731 ，真實值: 0.6\n",
      "svd預測: 0.3829956650733948 ，真實值: 0.4\n",
      "svd預測: 0.9312229156494141 ，真實值: 1.0\n",
      "svd預測: 0.796866774559021 ，真實值: 1.0\n",
      "svd預測: 0.8851510286331177 ，真實值: 0.8\n"
     ]
    }
   ],
   "source": [
    "# 看一下10個預測值\n",
    "for i in range(100):\n",
    "    user_id, item_id = x_test[i]\n",
    "    print(f'svd預測: {svd_keras.predict(np.array([[user_id, item_id]]))[0][0]}', f'，真實值: {y_test[i]}')"
   ]
  },
  {
   "cell_type": "code",
   "execution_count": 88,
   "metadata": {
    "ExecuteTime": {
     "end_time": "2021-04-27T10:41:49.279962Z",
     "start_time": "2021-04-27T10:41:49.261444Z"
    }
   },
   "outputs": [
    {
     "name": "stdout",
     "output_type": "stream",
     "text": [
      "Model: \"svd_13\"\n",
      "_________________________________________________________________\n",
      "Layer (type)                 Output Shape              Param #   \n",
      "=================================================================\n",
      "embedding_27 (Embedding)     multiple                  94400     \n",
      "_________________________________________________________________\n",
      "embedding_28 (Embedding)     multiple                  168300    \n",
      "_________________________________________________________________\n",
      "multiply_12 (Multiply)       multiple                  0         \n",
      "_________________________________________________________________\n",
      "flatten_12 (Flatten)         multiple                  0         \n",
      "_________________________________________________________________\n",
      "dense_11 (Dense)             multiple                  101       \n",
      "=================================================================\n",
      "Total params: 262,801\n",
      "Trainable params: 262,801\n",
      "Non-trainable params: 0\n",
      "_________________________________________________________________\n"
     ]
    }
   ],
   "source": [
    "svd.summary()"
   ]
  },
  {
   "cell_type": "code",
   "execution_count": 80,
   "metadata": {
    "ExecuteTime": {
     "end_time": "2021-04-27T10:40:06.291017Z",
     "start_time": "2021-04-27T10:39:56.566934Z"
    }
   },
   "outputs": [
    {
     "data": {
      "text/plain": [
       "<surprise.prediction_algorithms.matrix_factorization.SVD at 0x11e92383b00>"
      ]
     },
     "execution_count": 80,
     "metadata": {},
     "output_type": "execute_result"
    }
   ],
   "source": [
    "## 拿surprice來看看結果\n",
    "\n",
    "from surprise import SVD, Dataset, Reader\n",
    "\n",
    "reader = Reader(rating_scale=(0, 1))\n",
    "data = Dataset.load_from_df(df=df[['userID', 'itemID', 'rating']].iloc[0:80000, :], reader=reader)\n",
    "trainset = data.build_full_trainset()\n",
    "\n",
    "svd_surprise = SVD(n_factors=64)\n",
    "svd_surprise.fit(trainset)"
   ]
  },
  {
   "cell_type": "code",
   "execution_count": 89,
   "metadata": {
    "ExecuteTime": {
     "end_time": "2021-04-27T10:43:10.150856Z",
     "start_time": "2021-04-27T10:43:02.780297Z"
    }
   },
   "outputs": [
    {
     "name": "stdout",
     "output_type": "stream",
     "text": [
      "svd_keras 預測: 0.7331523299217224 svd_surprise 預測: 0.7273477684285234 ，真實值: 0.8\n",
      "svd_keras 預測: 0.507182776927948 svd_surprise 預測: 0.521134523544319 ，真實值: 0.2\n",
      "svd_keras 預測: 0.8014093637466431 svd_surprise 預測: 0.5670011600664306 ，真實值: 0.2\n",
      "svd_keras 預測: 0.8306746482849121 svd_surprise 預測: 0.7410150252517772 ，真實值: 0.4\n",
      "svd_keras 預測: 0.8069812059402466 svd_surprise 預測: 0.760900171945373 ，真實值: 0.8\n",
      "svd_keras 預測: 0.8977518081665039 svd_surprise 預測: 0.9818170609547092 ，真實值: 1.0\n",
      "svd_keras 預測: 0.8405638933181763 svd_surprise 預測: 0.7166361098226032 ，真實值: 0.6\n",
      "svd_keras 預測: 0.4550999701023102 svd_surprise 預測: 0.5099729669793798 ，真實值: 0.4\n",
      "svd_keras 預測: 0.7683990001678467 svd_surprise 預測: 0.8117153158710182 ，真實值: 1.0\n",
      "svd_keras 預測: 0.37953534722328186 svd_surprise 預測: 0.7055909604241074 ，真實值: 0.6\n",
      "svd_keras 預測: 0.43177884817123413 svd_surprise 預測: 0.7091820949492603 ，真實值: 0.4\n",
      "svd_keras 預測: 0.6642760038375854 svd_surprise 預測: 0.6868083673780273 ，真實值: 0.8\n",
      "svd_keras 預測: 0.9628728628158569 svd_surprise 預測: 0.7726283377049491 ，真實值: 1.0\n",
      "svd_keras 預測: 0.7425540685653687 svd_surprise 預測: 0.7363420360390325 ，真實值: 0.8\n",
      "svd_keras 預測: 0.7915084958076477 svd_surprise 預測: 0.7729955877166238 ，真實值: 0.8\n",
      "svd_keras 預測: 0.8004331588745117 svd_surprise 預測: 0.7192514960746825 ，真實值: 0.6\n",
      "svd_keras 預測: 0.47594594955444336 svd_surprise 預測: 0.5044817368419263 ，真實值: 0.2\n",
      "svd_keras 預測: 0.5152420997619629 svd_surprise 預測: 0.6781049612110883 ，真實值: 0.8\n",
      "svd_keras 預測: 0.9742377996444702 svd_surprise 預測: 0.7928507166040016 ，真實值: 1.0\n",
      "svd_keras 預測: 0.5999801158905029 svd_surprise 預測: 0.6492642035822842 ，真實值: 0.8\n",
      "svd_keras 預測: 0.8750436305999756 svd_surprise 預測: 0.9046159728710471 ，真實值: 0.8\n",
      "svd_keras 預測: 0.6908552646636963 svd_surprise 預測: 0.8538363407633204 ，真實值: 0.8\n",
      "svd_keras 預測: 0.8674967288970947 svd_surprise 預測: 0.7964961700524835 ，真實值: 1.0\n",
      "svd_keras 預測: 0.7308075428009033 svd_surprise 預測: 0.6253180419642669 ，真實值: 0.6\n",
      "svd_keras 預測: 0.8426254987716675 svd_surprise 預測: 0.7416603470258168 ，真實值: 0.8\n",
      "svd_keras 預測: 0.7239822149276733 svd_surprise 預測: 0.5400718141052765 ，真實值: 0.8\n",
      "svd_keras 預測: 0.7358871102333069 svd_surprise 預測: 0.5914227410267858 ，真實值: 0.6\n",
      "svd_keras 預測: 0.6552743911743164 svd_surprise 預測: 0.8124044232013459 ，真實值: 0.6\n",
      "svd_keras 預測: 0.8672806024551392 svd_surprise 預測: 0.844990312709497 ，真實值: 0.8\n",
      "svd_keras 預測: 0.865638256072998 svd_surprise 預測: 0.8272042984685951 ，真實值: 0.8\n",
      "svd_keras 預測: 0.6638365387916565 svd_surprise 預測: 0.5370208163854523 ，真實值: 1.0\n",
      "svd_keras 預測: 0.6955307126045227 svd_surprise 預測: 0.6802674697825426 ，真實值: 0.8\n",
      "svd_keras 預測: 0.95660400390625 svd_surprise 預測: 0.8560176781836775 ，真實值: 1.0\n",
      "svd_keras 預測: 0.5017507672309875 svd_surprise 預測: 0.5711959462749177 ，真實值: 0.6\n",
      "svd_keras 預測: 0.7683227062225342 svd_surprise 預測: 0.7068843079619771 ，真實值: 0.6\n",
      "svd_keras 預測: 0.7792792916297913 svd_surprise 預測: 0.8502992814049342 ，真實值: 0.4\n",
      "svd_keras 預測: 0.8700004816055298 svd_surprise 預測: 0.6728986118685825 ，真實值: 1.0\n",
      "svd_keras 預測: 0.9201533198356628 svd_surprise 預測: 0.9276315752201965 ，真實值: 0.8\n",
      "svd_keras 預測: 0.59053635597229 svd_surprise 預測: 0.6438309258741323 ，真實值: 1.0\n",
      "svd_keras 預測: 0.8028470277786255 svd_surprise 預測: 0.6080647294061149 ，真實值: 0.8\n",
      "svd_keras 預測: 0.8130484819412231 svd_surprise 預測: 0.7343842335692976 ，真實值: 0.8\n",
      "svd_keras 預測: 0.825910210609436 svd_surprise 預測: 0.7267829613578412 ，真實值: 0.6\n",
      "svd_keras 預測: 0.42146599292755127 svd_surprise 預測: 0.5740074624289093 ，真實值: 0.8\n",
      "svd_keras 預測: 0.6586341857910156 svd_surprise 預測: 0.7015698653302705 ，真實值: 0.8\n",
      "svd_keras 預測: 0.5809637308120728 svd_surprise 預測: 0.5168381803773804 ，真實值: 0.6\n",
      "svd_keras 預測: 0.952036440372467 svd_surprise 預測: 0.6638632243709064 ，真實值: 1.0\n",
      "svd_keras 預測: 0.8528512716293335 svd_surprise 預測: 0.8870823329611777 ，真實值: 1.0\n",
      "svd_keras 預測: 0.620171070098877 svd_surprise 預測: 0.7078493017737628 ，真實值: 0.4\n",
      "svd_keras 預測: 0.8367524743080139 svd_surprise 預測: 0.6778978958772846 ，真實值: 0.8\n",
      "svd_keras 預測: 0.9076579809188843 svd_surprise 預測: 0.7883675493293982 ，真實值: 1.0\n",
      "svd_keras 預測: 0.46124592423439026 svd_surprise 預測: 0.4012624605543972 ，真實值: 0.6\n",
      "svd_keras 預測: 0.6851081848144531 svd_surprise 預測: 0.7746501020672576 ，真實值: 0.8\n",
      "svd_keras 預測: 0.909377932548523 svd_surprise 預測: 0.9833300439490249 ，真實值: 1.0\n",
      "svd_keras 預測: 0.8374853730201721 svd_surprise 預測: 0.699863229676219 ，真實值: 1.0\n",
      "svd_keras 預測: 0.6149259805679321 svd_surprise 預測: 0.8096102767401823 ，真實值: 1.0\n",
      "svd_keras 預測: 0.6306926012039185 svd_surprise 預測: 0.48386288406690775 ，真實值: 0.6\n",
      "svd_keras 預測: 0.7289000749588013 svd_surprise 預測: 0.82045078678991 ，真實值: 0.8\n",
      "svd_keras 預測: 0.590564489364624 svd_surprise 預測: 0.537044556879899 ，真實值: 0.6\n",
      "svd_keras 預測: 0.5079892873764038 svd_surprise 預測: 0.4379519236269327 ，真實值: 0.6\n",
      "svd_keras 預測: 0.7594246864318848 svd_surprise 預測: 0.8588990484243619 ，真實值: 0.6\n",
      "svd_keras 預測: 0.6132575869560242 svd_surprise 預測: 0.7122200070667826 ，真實值: 0.8\n",
      "svd_keras 預測: 0.6346863508224487 svd_surprise 預測: 0.7131252955027985 ，真實值: 0.6\n",
      "svd_keras 預測: 0.60160231590271 svd_surprise 預測: 0.580439812435686 ，真實值: 0.6\n",
      "svd_keras 預測: 0.8934383988380432 svd_surprise 預測: 0.8629617658769758 ，真實值: 0.8\n",
      "svd_keras 預測: 0.6110883355140686 svd_surprise 預測: 0.5363711089003846 ，真實值: 0.8\n",
      "svd_keras 預測: 0.5960089564323425 svd_surprise 預測: 0.43378731817123267 ，真實值: 0.8\n",
      "svd_keras 預測: 0.6300061941146851 svd_surprise 預測: 0.7225571126176544 ，真實值: 0.6\n",
      "svd_keras 預測: 0.8041068315505981 svd_surprise 預測: 0.8014236686998002 ，真實值: 1.0\n",
      "svd_keras 預測: 0.6983100175857544 svd_surprise 預測: 0.6616650623962063 ，真實值: 0.4\n",
      "svd_keras 預測: 0.8224927186965942 svd_surprise 預測: 0.8148562508341904 ，真實值: 0.8\n",
      "svd_keras 預測: 0.2765805125236511 svd_surprise 預測: 0.6296123320582083 ，真實值: 0.2\n",
      "svd_keras 預測: 0.3087426424026489 svd_surprise 預測: 0.6693989697962764 ，真實值: 0.6\n",
      "svd_keras 預測: 0.7763657569885254 svd_surprise 預測: 0.9060328708549875 ，真實值: 0.8\n",
      "svd_keras 預測: 0.5745684504508972 svd_surprise 預測: 0.8023365304224866 ，真實值: 0.6\n",
      "svd_keras 預測: 0.4666324257850647 svd_surprise 預測: 0.5082884712093151 ，真實值: 0.6\n",
      "svd_keras 預測: 0.6813914179801941 svd_surprise 預測: 0.8590515123353916 ，真實值: 0.8\n",
      "svd_keras 預測: 0.24376970529556274 svd_surprise 預測: 0.4895728572952374 ，真實值: 0.6\n",
      "svd_keras 預測: 0.5006063580513 svd_surprise 預測: 0.6513075192722341 ，真實值: 0.4\n",
      "svd_keras 預測: 0.7953306436538696 svd_surprise 預測: 0.8183382344752166 ，真實值: 1.0\n",
      "svd_keras 預測: 0.9874606132507324 svd_surprise 預測: 0.8470304414093427 ，真實值: 0.8\n",
      "svd_keras 預測: 0.7005933523178101 svd_surprise 預測: 0.5867898445079658 ，真實值: 0.6\n",
      "svd_keras 預測: 0.7733718156814575 svd_surprise 預測: 0.739831056342524 ，真實值: 0.6\n",
      "svd_keras 預測: 0.4932169020175934 svd_surprise 預測: 0.513912494073988 ，真實值: 0.4\n",
      "svd_keras 預測: 0.585173487663269 svd_surprise 預測: 0.6996919507279937 ，真實值: 0.4\n",
      "svd_keras 預測: 0.7720259428024292 svd_surprise 預測: 0.5994720589089233 ，真實值: 0.8\n",
      "svd_keras 預測: 0.7711638808250427 svd_surprise 預測: 0.725141368203312 ，真實值: 1.0\n",
      "svd_keras 預測: 0.8325701951980591 svd_surprise 預測: 0.7611049001098005 ，真實值: 1.0\n",
      "svd_keras 預測: 0.9830464124679565 svd_surprise 預測: 0.9717950650369227 ，真實值: 1.0\n",
      "svd_keras 預測: 0.6870698928833008 svd_surprise 預測: 0.4785357998200853 ，真實值: 0.4\n",
      "svd_keras 預測: 0.3761454224586487 svd_surprise 預測: 0.5118596240785191 ，真實值: 0.8\n",
      "svd_keras 預測: 0.5733280181884766 svd_surprise 預測: 0.3952063695351209 ，真實值: 0.2\n",
      "svd_keras 預測: 0.48189637064933777 svd_surprise 預測: 0.47213107488958256 ，真實值: 0.6\n",
      "svd_keras 預測: 0.28543275594711304 svd_surprise 預測: 0.8715687591461015 ，真實值: 1.0\n",
      "svd_keras 預測: 0.3845065236091614 svd_surprise 預測: 0.4889235763660792 ，真實值: 0.4\n",
      "svd_keras 預測: 0.6287792921066284 svd_surprise 預測: 0.5847422497408831 ，真實值: 0.8\n",
      "svd_keras 預測: 0.832795262336731 svd_surprise 預測: 0.8179029116819835 ，真實值: 0.6\n",
      "svd_keras 預測: 0.3829956650733948 svd_surprise 預測: 0.44265302250814076 ，真實值: 0.4\n",
      "svd_keras 預測: 0.9312229156494141 svd_surprise 預測: 0.7416438132526084 ，真實值: 1.0\n",
      "svd_keras 預測: 0.796866774559021 svd_surprise 預測: 0.8651190313964601 ，真實值: 1.0\n",
      "svd_keras 預測: 0.8851510286331177 svd_surprise 預測: 0.7836361819494372 ，真實值: 0.8\n"
     ]
    }
   ],
   "source": [
    "# 看一下10個預測值\n",
    "for i in range(100):\n",
    "    user_id, item_id = x_test[i]\n",
    "    print(f'svd_keras 預測: {svd_keras.predict(np.array([[user_id, item_id]]))[0][0]}', f'svd_surprise 預測: {svd_surprise.predict(user_id, item_id).est}', f'，真實值: {y_test[i]}')"
   ]
  },
  {
   "cell_type": "code",
   "execution_count": 91,
   "metadata": {
    "ExecuteTime": {
     "end_time": "2021-04-27T10:46:26.899558Z",
     "start_time": "2021-04-27T10:46:25.677035Z"
    }
   },
   "outputs": [],
   "source": [
    "y_pred_keras = svd_keras.predict(x_test)\n",
    "\n",
    "y_pred_surprise = []\n",
    "for i in range(len(x_test)):\n",
    "    y_pred_surprise.append(svd_surprise.predict(x_test[i][0], x_test[i][1]).est)"
   ]
  },
  {
   "cell_type": "code",
   "execution_count": 92,
   "metadata": {
    "ExecuteTime": {
     "end_time": "2021-04-27T10:46:28.369002Z",
     "start_time": "2021-04-27T10:46:28.319005Z"
    }
   },
   "outputs": [
    {
     "name": "stdout",
     "output_type": "stream",
     "text": [
      "SVDKeras MSE:  tf.Tensor(0.041680608, shape=(), dtype=float32)\n",
      "SVDSurprise MSE:  tf.Tensor(0.03728548199773307, shape=(), dtype=float64)\n",
      "SVDKeras MAE:  tf.Tensor(0.15908265, shape=(), dtype=float32)\n",
      "SVDSurprise MAE:  tf.Tensor(0.15317689448546898, shape=(), dtype=float64)\n"
     ]
    }
   ],
   "source": [
    "## MAE評斷\n",
    "\n",
    "from tensorflow.keras.metrics import mse, mae\n",
    "\n",
    "# MSE\n",
    "print('SVDKeras MSE: ', mse(y_test, y_pred_keras.flatten()))\n",
    "print('SVDSurprise MSE: ', mse(y_test, y_pred_surprise))\n",
    "\n",
    "# MAE\n",
    "print('SVDKeras MAE: ', mae(y_test, y_pred_keras.flatten()))\n",
    "print('SVDSurprise MAE: ', mae(y_test, y_pred_surprise))"
   ]
  },
  {
   "cell_type": "code",
   "execution_count": null,
   "metadata": {},
   "outputs": [],
   "source": []
  }
 ],
 "metadata": {
  "kernelspec": {
   "display_name": "Python 3",
   "language": "python",
   "name": "python3"
  },
  "language_info": {
   "codemirror_mode": {
    "name": "ipython",
    "version": 3
   },
   "file_extension": ".py",
   "mimetype": "text/x-python",
   "name": "python",
   "nbconvert_exporter": "python",
   "pygments_lexer": "ipython3",
   "version": "3.7.3"
  }
 },
 "nbformat": 4,
 "nbformat_minor": 4
}
