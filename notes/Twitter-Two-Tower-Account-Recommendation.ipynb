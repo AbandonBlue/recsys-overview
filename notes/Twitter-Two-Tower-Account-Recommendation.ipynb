{
 "cells": [
  {
   "cell_type": "markdown",
   "metadata": {},
   "source": [
    "## Twitter ' s who-to-follow 推薦系統部份(candidate generation)\n",
    "- [參考](https://blog.twitter.com/engineering/en_us/topics/insights/2022/model-based-candidate-generation-for-account-recommendations)"
   ]
  },
  {
   "cell_type": "code",
   "execution_count": 22,
   "metadata": {
    "ExecuteTime": {
     "end_time": "2022-04-12T12:06:03.270747Z",
     "start_time": "2022-04-12T12:06:03.254748Z"
    }
   },
   "outputs": [],
   "source": [
    "import tensorflow as tf\n",
    "from tensorflow import keras\n",
    "from tensorflow.keras import layers\n",
    "import numpy as np"
   ]
  },
  {
   "cell_type": "code",
   "execution_count": 19,
   "metadata": {
    "ExecuteTime": {
     "end_time": "2022-04-12T12:04:43.014238Z",
     "start_time": "2022-04-12T12:04:42.980241Z"
    }
   },
   "outputs": [],
   "source": [
    "# 簡單以各兩項為例\n",
    "\n",
    "class Tower(layers.Layer):\n",
    "    def __init__(self, feature_dict, **kwargs):\n",
    "        super(Tower, self).__init__(**kwargs)\n",
    "        self.nums_features = len(feature_dict)\n",
    "        self.embeddings = []\n",
    "        self.denses = []\n",
    "        self.concatenate = layers.Concatenate()\n",
    "        self.dense_512 = layers.Dense(units=512, activation='relu')\n",
    "        self.dense_last = layers.Dense(units=256, activation='relu', name='output')\n",
    "\n",
    "        for i in range(len(feature_dict)):\n",
    "            input_dim = feature_dict[i]['input_dim']\n",
    "            output_dim = feature_dict[i]['output_dim']\n",
    "            name = feature_dict[i]['name']\n",
    "            self.embeddings.append(layers.Embedding(input_dim=input_dim, output_dim=output_dim, name=name, input_length=1))\n",
    "            denses = []\n",
    "            denses.append(layers.Dense(units=512, activation='relu'))\n",
    "            denses.append(layers.Dense(units=512, activation='relu'))\n",
    "            denses.append(layers.Dense(units=256, activation='relu'))\n",
    "            denses.append(layers.Dense(units=256, activation='relu'))\n",
    "            self.denses.append(denses)\n",
    "        \n",
    "    \n",
    "    def call(self, X):\n",
    "        embeddings = []\n",
    "        for i in range(len(self.embeddings)):\n",
    "            embedding = self.embeddings[i](X[:, i])\n",
    "            for j in range(len(self.denses[i])):\n",
    "                embedding = self.denses[i][j](embedding)\n",
    "            embeddings.append(embedding)\n",
    "        embeddings = self.dense_512(self.concatenate(embeddings))\n",
    "        \n",
    "        return self.dense_last(embeddings)\n",
    "    \n",
    "    \n",
    "class TwitterWhoToFollow(keras.Model):\n",
    "    def __init__(self, consumer_feature_dict, producer_feature_dict, **kwargs):\n",
    "        super(TwitterWhoToFollow, self).__init__(**kwargs)\n",
    "        self.consumer_tower = Tower(consumer_feature_dict)\n",
    "        self.producer_tower = Tower(producer_feature_dict)\n",
    "        self.dot_layer = layers.Dot(axes=1)\n",
    "        \n",
    "    def call(self, X):\n",
    "        consumer_tower_embedding = self.consumer_tower(X)\n",
    "        producer_tower_embedding = self.producer_tower(X)\n",
    "        \n",
    "        return self.dot_layer([consumer_tower_embedding, producer_tower_embedding])"
   ]
  },
  {
   "cell_type": "code",
   "execution_count": 21,
   "metadata": {
    "ExecuteTime": {
     "end_time": "2022-04-12T12:04:54.318896Z",
     "start_time": "2022-04-12T12:04:53.964902Z"
    }
   },
   "outputs": [
    {
     "name": "stdout",
     "output_type": "stream",
     "text": [
      "Model: \"twitter_who_to_follow_6\"\n",
      "_________________________________________________________________\n",
      "Layer (type)                 Output Shape              Param #   \n",
      "=================================================================\n",
      "tower_10 (Tower)             multiple                  7701248   \n",
      "_________________________________________________________________\n",
      "tower_11 (Tower)             multiple                  7701248   \n",
      "_________________________________________________________________\n",
      "dot_4 (Dot)                  multiple                  0         \n",
      "=================================================================\n",
      "Total params: 15,402,496\n",
      "Trainable params: 15,402,496\n",
      "Non-trainable params: 0\n",
      "_________________________________________________________________\n"
     ]
    }
   ],
   "source": [
    "embed_dim = 512\n",
    "\n",
    "\n",
    "# 參數我先縮小了\n",
    "consumer_feature_dict = [\n",
    "    {'name': 'user_id', 'input_dim': 10000, 'output_dim': embed_dim},\n",
    "    {'name': 'interested_in_follow', 'input_dim': 1450, 'output_dim': embed_dim}\n",
    "]\n",
    "producer_feature_dict = [\n",
    "    {'name': 'geo_counts', 'input_dim': 10000, 'output_dim': embed_dim},\n",
    "    {'name': 'known_for', 'input_dim': 1450, 'output_dim': embed_dim}\n",
    "]\n",
    "\n",
    "twitter_model = TwitterWhoToFollow(consumer_feature_dict, producer_feature_dict)\n",
    "twitter_model.build((None, 2))   # 其實這邊不太合理，應該是4，然後call那邊需要改\n",
    "twitter_model.summary()"
   ]
  },
  {
   "cell_type": "code",
   "execution_count": 23,
   "metadata": {
    "ExecuteTime": {
     "end_time": "2022-04-12T12:06:53.236049Z",
     "start_time": "2022-04-12T12:06:53.033051Z"
    }
   },
   "outputs": [
    {
     "data": {
      "text/plain": [
       "<tf.Tensor: shape=(64, 1), dtype=float32, numpy=\n",
       "array([[0.00225225],\n",
       "       [0.00303309],\n",
       "       [0.00257653],\n",
       "       [0.00285879],\n",
       "       [0.00229791],\n",
       "       [0.00218818],\n",
       "       [0.00242005],\n",
       "       [0.00237509],\n",
       "       [0.0033    ],\n",
       "       [0.00308561],\n",
       "       [0.00275155],\n",
       "       [0.00302385],\n",
       "       [0.00226284],\n",
       "       [0.0026786 ],\n",
       "       [0.00232036],\n",
       "       [0.00324307],\n",
       "       [0.00184285],\n",
       "       [0.0024542 ],\n",
       "       [0.00322019],\n",
       "       [0.00325187],\n",
       "       [0.00245779],\n",
       "       [0.00310049],\n",
       "       [0.00264306],\n",
       "       [0.0030272 ],\n",
       "       [0.00239984],\n",
       "       [0.00329036],\n",
       "       [0.00287322],\n",
       "       [0.00343102],\n",
       "       [0.00277571],\n",
       "       [0.00311583],\n",
       "       [0.00291544],\n",
       "       [0.0026752 ],\n",
       "       [0.00229575],\n",
       "       [0.00258374],\n",
       "       [0.00251001],\n",
       "       [0.00266387],\n",
       "       [0.00348713],\n",
       "       [0.00205453],\n",
       "       [0.00292226],\n",
       "       [0.00316013],\n",
       "       [0.00201679],\n",
       "       [0.00187615],\n",
       "       [0.00347805],\n",
       "       [0.00293047],\n",
       "       [0.00265237],\n",
       "       [0.00238529],\n",
       "       [0.00183896],\n",
       "       [0.00253202],\n",
       "       [0.00234934],\n",
       "       [0.00302523],\n",
       "       [0.00229188],\n",
       "       [0.00336934],\n",
       "       [0.00233434],\n",
       "       [0.00210157],\n",
       "       [0.00291636],\n",
       "       [0.00212864],\n",
       "       [0.00225543],\n",
       "       [0.00194546],\n",
       "       [0.00260569],\n",
       "       [0.00225038],\n",
       "       [0.00293852],\n",
       "       [0.00229916],\n",
       "       [0.00245591],\n",
       "       [0.00280208]], dtype=float32)>"
      ]
     },
     "execution_count": 23,
     "metadata": {},
     "output_type": "execute_result"
    }
   ],
   "source": [
    "# 測試\n",
    "batch_data = np.random.randint(low=1, high=1000, size=(64, 2))\n",
    "twitter_model(batch_data)"
   ]
  },
  {
   "cell_type": "code",
   "execution_count": null,
   "metadata": {},
   "outputs": [],
   "source": []
  }
 ],
 "metadata": {
  "kernelspec": {
   "display_name": "Python 3",
   "language": "python",
   "name": "python3"
  },
  "language_info": {
   "codemirror_mode": {
    "name": "ipython",
    "version": 3
   },
   "file_extension": ".py",
   "mimetype": "text/x-python",
   "name": "python",
   "nbconvert_exporter": "python",
   "pygments_lexer": "ipython3",
   "version": "3.7.3"
  }
 },
 "nbformat": 4,
 "nbformat_minor": 4
}
